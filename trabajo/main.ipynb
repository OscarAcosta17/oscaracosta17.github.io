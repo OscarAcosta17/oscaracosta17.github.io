{
 "cells": [
  {
   "cell_type": "code",
   "execution_count": 18,
   "metadata": {},
   "outputs": [
    {
     "name": "stderr",
     "output_type": "stream",
     "text": [
      "c:\\Users\\oscar\\AppData\\Local\\Programs\\Python\\Python311\\Lib\\site-packages\\whisper\\transcribe.py:126: UserWarning: FP16 is not supported on CPU; using FP32 instead\n",
      "  warnings.warn(\"FP16 is not supported on CPU; using FP32 instead\")\n"
     ]
    },
    {
     "name": "stdout",
     "output_type": "stream",
     "text": [
      " Para maximizar entonces la ganancia tenemos que comparar el costo con la recompensa.\n"
     ]
    }
   ],
   "source": [
    "import whisper\n",
    "import os\n",
    "\n",
    "audio = \"1\"\n",
    "carpeta_clases = \"Clases\"\n",
    "ruta_audio = os.path.join(carpeta_clases, audio + \".mp3\")\n",
    "\n",
    "model = whisper.load_model(\"base\")\n",
    "result = model.transcribe(ruta_audio)\n",
    "print(result[\"text\"])\n"
   ]
  },
  {
   "cell_type": "code",
   "execution_count": 30,
   "metadata": {},
   "outputs": [],
   "source": [
    "from docx import Document\n",
    "import os\n",
    "\n",
    "doc = Document()\n",
    "doc.add_paragraph(result[\"text\"])\n",
    "\n",
    "nombre_archivo =  audio + \".docx\"\n",
    "carpeta= \"Transcripciones\"\n",
    "\n",
    "ruta_completa = os.path.join(carpeta, nombre_archivo)\n",
    "doc.save(ruta_completa)"
   ]
  }
 ],
 "metadata": {
  "kernelspec": {
   "display_name": "Python 3",
   "language": "python",
   "name": "python3"
  },
  "language_info": {
   "codemirror_mode": {
    "name": "ipython",
    "version": 3
   },
   "file_extension": ".py",
   "mimetype": "text/x-python",
   "name": "python",
   "nbconvert_exporter": "python",
   "pygments_lexer": "ipython3",
   "version": "3.11.5"
  }
 },
 "nbformat": 4,
 "nbformat_minor": 2
}
