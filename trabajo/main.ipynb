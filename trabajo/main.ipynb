{
 "cells": [
  {
   "cell_type": "code",
   "execution_count": 73,
   "metadata": {},
   "outputs": [
    {
     "name": "stderr",
     "output_type": "stream",
     "text": [
      "100%|█████████████████████████████████████| 2.88G/2.88G [24:02<00:00, 2.14MiB/s]\n"
     ]
    },
    {
     "name": "stdout",
     "output_type": "stream",
     "text": [
      " Este es el emprendimiento de Francisco de Castro, la empresa NetNow. La idea de este emprendimiento surge a raíz de la necesidad económica que había en el hogar de Francisco, ya que en ese momento él estudiaba derecho y necesitaba pagar sus estudios, y al mismo tiempo llevar con él algunas necesidades básicas de la casa, cosa que lamentablemente sus padres no podían suplir. Entonces él empieza a buscar formas de generar ingresos, lo cual le llegó por un conocido, un primo de la polora de Francisco quería vender un computador. Francisco había escuchado que los computadores iban a ser el futuro, y serían muy útiles, así que preguntó por el computador para poder comprarlo. El primo de su polora le dio la opción de probar el computador por 30 días, pero él se dio cuenta que en ese tiempo que el computador era más que solo un aparato para ver números, sino que también funcionaba para juegos, y especialmente este computador tenía juegos copiados, cassette, un teclado y un joystick. Francisco al ver la manera de generar dinero, creó un aviso en el Mercurio para vender este computador, pero 20.000 pesos más caro de lo que le estaba ofreciendo el primo. Además añadió a la venta un curso adicional de VisualBank, básico para tener un paquete más completo. Él esperó y esperó, pero nadie lo llamaba, hasta que llegando el 30º día de préstamo, y justo cuando él iba a volver al computador, alguien lo llamó para poder comprarle el PC. Con ese dinero se compró otro computador, y al cabo de un par de días de prueba, decidió hacer el mismo procedimiento que había hecho con el computador anterior, y lo vendió igual que el primero. Al ver esto, Francisco se da cuenta de la oportunidad que él estaba realizando, y el hoyo que él podía suplir en este mercado. Todo esto comenzó a principios de diciembre, después de Navidad, y ya tenía 40 computadores vendidos. Luego llega marzo, y por temas económicos y de tiempo, él se asocia con su madre y crea en su garage un local. Además de computadores también, empezaron a vender otras piezas del mismo tipo, como impresoras o cintas para impresoras. Empezó a ir todo muy bien, hasta incluso pudieron arrendar un local cerca del metro Todalada.\n"
     ]
    }
   ],
   "source": [
    "import whisper\n",
    "audio = \"1\"\n",
    "model = whisper.load_model(\"large\")\n",
    "result = model.transcribe(audio + \".mp3\")\n",
    "print(result[\"text\"])"
   ]
  },
  {
   "cell_type": "code",
   "execution_count": 74,
   "metadata": {},
   "outputs": [],
   "source": [
    "from docx import Document\n",
    "\n",
    "doc = Document()\n",
    "doc.add_paragraph(result[\"text\"])\n",
    "nombre_archivo =  audio + \".docx\"\n",
    "doc.save(nombre_archivo)"
   ]
  }
 ],
 "metadata": {
  "kernelspec": {
   "display_name": "Python 3",
   "language": "python",
   "name": "python3"
  },
  "language_info": {
   "codemirror_mode": {
    "name": "ipython",
    "version": 3
   },
   "file_extension": ".py",
   "mimetype": "text/x-python",
   "name": "python",
   "nbconvert_exporter": "python",
   "pygments_lexer": "ipython3",
   "version": "3.11.5"
  }
 },
 "nbformat": 4,
 "nbformat_minor": 2
}
