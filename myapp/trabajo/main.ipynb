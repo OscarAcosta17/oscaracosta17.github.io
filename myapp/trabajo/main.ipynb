{
 "cells": [
  {
   "cell_type": "code",
   "execution_count": null,
   "metadata": {},
   "outputs": [],
   "source": [
    "import whisper\n",
    "import os\n",
    "\n",
    "audio = \"1\"\n",
    "carpeta_clases = \"Clases\"\n",
    "ruta_audio = os.path.join(carpeta_clases, audio + \".mp3\")\n",
    "\n",
    "model = whisper.load_model(\"base\")\n",
    "result = model.transcribe(ruta_audio)\n",
    "print(result[\"text\"])"
   ]
  },
  {
   "cell_type": "code",
   "execution_count": null,
   "metadata": {},
   "outputs": [],
   "source": [
    "from docx import Document\n",
    "import os\n",
    "\n",
    "doc = Document()\n",
    "doc.add_paragraph(result[\"text\"])\n",
    "\n",
    "nombre_archivo =  audio + \".docx\"\n",
    "carpeta= \"Transcripciones\"\n",
    "\n",
    "ruta_completa = os.path.join(carpeta, nombre_archivo)\n",
    "doc.save(ruta_completa)"
   ]
  }
 ],
 "metadata": {
  "kernelspec": {
   "display_name": "Python 3",
   "language": "python",
   "name": "python3"
  },
  "language_info": {
   "codemirror_mode": {
    "name": "ipython",
    "version": 3
   },
   "file_extension": ".py",
   "mimetype": "text/x-python",
   "name": "python",
   "nbconvert_exporter": "python",
   "pygments_lexer": "ipython3",
   "version": "3.11.5"
  }
 },
 "nbformat": 4,
 "nbformat_minor": 2
}
